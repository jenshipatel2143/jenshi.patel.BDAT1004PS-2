{
  "nbformat": 4,
  "nbformat_minor": 0,
  "metadata": {
    "colab": {
      "provenance": []
    },
    "kernelspec": {
      "name": "python3",
      "display_name": "Python 3"
    },
    "language_info": {
      "name": "python"
    }
  },
  "cells": [
    {
      "cell_type": "markdown",
      "source": [
        "**Problem set 2**"
      ],
      "metadata": {
        "id": "PDMF5zNuftzB"
      }
    },
    {
      "cell_type": "markdown",
      "source": [
        "Question 1:"
      ],
      "metadata": {
        "id": "WtJB8IKrzQ2B"
      }
    },
    {
      "cell_type": "code",
      "source": [
        "a = 0                 #initialize the variable\n",
        "def b():              #define a function\n",
        " global a             #define a as a globle variable\n",
        " a = c(a)             #call the function c(a) and assign that return value to the globle variable\n",
        "def c(a):             #define the function c(a)\n",
        " return a + 2         #return the value of a with plus 2\n",
        "b()                   #call the function 1st time\n",
        "b()                   #call the function 2nd time\n",
        "b()                   #call the funnction 3rd time\n",
        "print(a)              #print the value of a"
      ],
      "metadata": {
        "colab": {
          "base_uri": "https://localhost:8080/"
        },
        "id": "AmTAIekTf5O4",
        "outputId": "af353384-cdd4-4f7d-f6d9-a672e7a6c26d"
      },
      "execution_count": null,
      "outputs": [
        {
          "output_type": "stream",
          "name": "stdout",
          "text": [
            "6\n"
          ]
        }
      ]
    },
    {
      "cell_type": "markdown",
      "source": [
        "Question 2:"
      ],
      "metadata": {
        "id": "WoVD4QkYhoO_"
      }
    },
    {
      "cell_type": "code",
      "source": [
        "def fileLength(fname):\n",
        "    try:\n",
        "        file = open(fname)\n",
        "        length = len(file.read())\n",
        "        file.close()\n",
        "        return length\n",
        "    except FileNotFoundError:\n",
        "        print(\"File\", fname, \"not found.\")\n"
      ],
      "metadata": {
        "id": "mqJHKvwpMI4r"
      },
      "execution_count": null,
      "outputs": []
    },
    {
      "cell_type": "code",
      "source": [
        "fileLength(\"Try.py\")"
      ],
      "metadata": {
        "colab": {
          "base_uri": "https://localhost:8080/"
        },
        "id": "g0gXQaD6MfJ7",
        "outputId": "061bd263-bf7e-4868-d782-69349b639da8"
      },
      "execution_count": null,
      "outputs": [
        {
          "output_type": "stream",
          "name": "stdout",
          "text": [
            "File Try.py not found.\n"
          ]
        }
      ]
    },
    {
      "cell_type": "code",
      "source": [
        "fileLength(\"Try1.py\")"
      ],
      "metadata": {
        "colab": {
          "base_uri": "https://localhost:8080/"
        },
        "id": "rDuG73YHNFSM",
        "outputId": "30479537-9568-4e72-c895-a9972f505818"
      },
      "execution_count": null,
      "outputs": [
        {
          "output_type": "stream",
          "name": "stdout",
          "text": [
            "File Try1.py not found.\n"
          ]
        }
      ]
    },
    {
      "cell_type": "markdown",
      "source": [
        "Question 3:"
      ],
      "metadata": {
        "id": "tIrVIZF7Pxk-"
      }
    },
    {
      "cell_type": "code",
      "source": [
        "class Marsupial:\n",
        "    def __init__(self):\n",
        "        self.pouch = []\n",
        "\n",
        "    def put_in_pouch(self, item):\n",
        "        self.pouch.append(item)\n",
        "\n",
        "    def pouch_contents(self):\n",
        "        return self.pouch\n",
        "\n",
        "\n",
        "class Kangaroo(Marsupial):\n",
        "    def __init__(self, x, y):\n",
        "        super().__init__()\n",
        "        self.x = x\n",
        "        self.y = y\n",
        "\n",
        "    def jump(self, dx, dy):\n",
        "        self.x += dx\n",
        "        self.y += dy\n",
        "\n",
        "    def __str__(self):\n",
        "        return \"I am a Kangaroo located at coordinates ({},{})\".format(self.x,self.y)\n",
        "\n",
        "\n",
        "# Example usage:\n",
        "m = Marsupial()\n",
        "m.put_in_pouch('doll')\n",
        "m.put_in_pouch('firetruck')\n",
        "m.put_in_pouch('kitten')\n",
        "print(m.pouch_contents())  # Output: ['doll', 'firetruck', 'kitten']\n",
        "\n",
        "k = Kangaroo(0, 0)\n",
        "print(k)  # Output: I am a Kangaroo located at coordinates (0,0)\n",
        "k.put_in_pouch('doll')\n",
        "k.put_in_pouch('firetruck')\n",
        "k.put_in_pouch('kitten')\n",
        "print(k.pouch_contents())  # Output: ['doll', 'firetruck', 'kitten']\n",
        "\n",
        "k.jump(1, 0)\n",
        "k.jump(1, 0)\n",
        "k.jump(1, 0)\n",
        "k.jump(3,1)\n",
        "print(k)  # Output: I am a Kangaroo located at coordinates (3,0)\n"
      ],
      "metadata": {
        "colab": {
          "base_uri": "https://localhost:8080/"
        },
        "id": "DzIaapFsOWqk",
        "outputId": "3489d196-b2cd-4b33-a3c7-bc99745e744d"
      },
      "execution_count": null,
      "outputs": [
        {
          "output_type": "stream",
          "name": "stdout",
          "text": [
            "['doll', 'firetruck', 'kitten']\n",
            "I am a Kangaroo located at coordinates (0,0)\n",
            "['doll', 'firetruck', 'kitten']\n",
            "I am a Kangaroo located at coordinates (6,1)\n"
          ]
        }
      ]
    },
    {
      "cell_type": "markdown",
      "source": [
        "Question 4:"
      ],
      "metadata": {
        "id": "rAhYDLRfiKo4"
      }
    },
    {
      "cell_type": "code",
      "source": [
        "def printcollatz(x):\n",
        "  while x != 1:\n",
        "        print(x, end = '\\n')\n",
        "        if x & 1:\n",
        "            x = 3 * x + 1\n",
        "        else:\n",
        "            x = x // 2\n",
        "\n",
        "\n",
        "  print(x)\n",
        "\n"
      ],
      "metadata": {
        "id": "tavYXttGUBHJ"
      },
      "execution_count": null,
      "outputs": []
    },
    {
      "cell_type": "code",
      "source": [
        "printcollatz(1)"
      ],
      "metadata": {
        "colab": {
          "base_uri": "https://localhost:8080/"
        },
        "id": "JN_eL9HQtowb",
        "outputId": "6a1d83e0-1474-40b9-efd3-dcaa97452174"
      },
      "execution_count": null,
      "outputs": [
        {
          "output_type": "stream",
          "name": "stdout",
          "text": [
            "1\n"
          ]
        }
      ]
    },
    {
      "cell_type": "code",
      "source": [
        "printcollatz(10)"
      ],
      "metadata": {
        "colab": {
          "base_uri": "https://localhost:8080/"
        },
        "id": "DT-3UUl7fK0V",
        "outputId": "35ce449f-8af4-478b-ed12-e35bcd2b9bd8"
      },
      "execution_count": null,
      "outputs": [
        {
          "output_type": "stream",
          "name": "stdout",
          "text": [
            "10\n",
            "5\n",
            "16\n",
            "8\n",
            "4\n",
            "2\n",
            "1\n"
          ]
        }
      ]
    },
    {
      "cell_type": "markdown",
      "source": [
        "Question 5:"
      ],
      "metadata": {
        "id": "ZkUkLa2rDizz"
      }
    },
    {
      "cell_type": "code",
      "source": [
        "def binary(n):\n",
        "    if n == 0:\n",
        "        print('0')\n",
        "    elif n == 1:\n",
        "        print('1')\n",
        "    else:\n",
        "        print(n % 2, end='')\n",
        "        binary(n // 2)  # Recursive call with n divided by 2\n",
        "\n",
        "binary(0)\n",
        "binary(1)\n",
        "binary(3)\n",
        "binary(9)"
      ],
      "metadata": {
        "colab": {
          "base_uri": "https://localhost:8080/"
        },
        "id": "IKfOs5otDk6V",
        "outputId": "dad21436-3124-4b91-e027-58ff40da971c"
      },
      "execution_count": null,
      "outputs": [
        {
          "output_type": "stream",
          "name": "stdout",
          "text": [
            "0\n",
            "1\n",
            "11\n",
            "1001\n"
          ]
        }
      ]
    },
    {
      "cell_type": "markdown",
      "source": [
        "Question 6:"
      ],
      "metadata": {
        "id": "dMAYPAwBbT5N"
      }
    },
    {
      "cell_type": "code",
      "source": [
        "from html.parser import HTMLParser\t\t\t#Import the parser\n",
        "\n",
        "class HeadingParser(HTMLParser):\t\t#create a subclass of HTMLParser which will overload handle..\n",
        "    def __init__(self):\n",
        "        super().__init__()\n",
        "        self.inHead = False\n",
        "        self.head_=\"\"\n",
        "        self.heading_={\"h1\":\"\",\"h2\":\" \",\"h3\":\"  \",\"h4\":\"   \",\"h5\":\"    \",\"h6\":\"     \"}\n",
        "\n",
        "    def handle_starttag(self, tag, attrs):\n",
        "        if tag in self.heading_:\n",
        "            self.head_=tag\n",
        "            self.inHead = True\n",
        "    def handle_data(self, data):\n",
        "        if self.inHead:\n",
        "            print(self.heading_[self.head_]+data)\n",
        "    def handle_endtag(self, tag):\n",
        "        if tag ==self.head_:\n",
        "            self.inHead = False\n",
        "\n",
        "infile = open(\"w3c.html\", \"r\")\n",
        "content = infile.read()\n",
        "infile.close()\n",
        "hp = HeadingParser()\n",
        "hp.feed(content)"
      ],
      "metadata": {
        "colab": {
          "base_uri": "https://localhost:8080/"
        },
        "id": "d8IsEZOa-ZCy",
        "outputId": "e2205ab4-50ff-489e-8970-e01a48756a62"
      },
      "execution_count": null,
      "outputs": [
        {
          "output_type": "stream",
          "name": "stdout",
          "text": [
            "W3C Mission\n",
            " Principles\n"
          ]
        }
      ]
    },
    {
      "cell_type": "markdown",
      "source": [
        "Question 7:"
      ],
      "metadata": {
        "id": "K0pyzRsQqp5c"
      }
    },
    {
      "cell_type": "code",
      "source": [
        "import requests\n",
        "\n",
        "def webdir(url, depth, indent):\n",
        "    if depth < 0:  # Base case: stop recursion when depth is negative\n",
        "        return\n",
        "\n",
        "    response = requests.get(url)\n",
        "    if response.status_code == 200:\n",
        "        print(' ' * indent + url)  # Print the URL with proper indentation\n",
        "\n",
        "        if depth > 0:\n",
        "            links = extract_links(response.text)\n",
        "            # print(links)\n",
        "            for link in links:\n",
        "                webdir(link, depth - 1, indent +2)  # Recursively call webdir for each link\n",
        "\n",
        "def extract_links(text_html):\n",
        "    # Extract links from the HTML content\n",
        "    # print(html)\n",
        "    links = []\n",
        "    start_pos = 0\n",
        "    while True:\n",
        "        start_link = text_html.find('<a href=', start_pos)\n",
        "        if start_link == -1:\n",
        "            break\n",
        "        start_quote = text_html.find('\"', start_link)\n",
        "        # print(start_quote)\n",
        "        end_quote = text_html.find('\"', start_quote + 1)\n",
        "        # print(end_quote)\n",
        "        if (text_html[start_quote + 1:end_quote].startswith('http') ):\n",
        "          link = text_html[start_quote + 1:end_quote]\n",
        "          # print(link)\n",
        "          links.append(link)\n",
        "        # break\n",
        "\n",
        "        # links.append(link)\n",
        "        start_pos = end_quote + 1\n",
        "    return links\n"
      ],
      "metadata": {
        "id": "2x7jll4dqt-i"
      },
      "execution_count": null,
      "outputs": []
    },
    {
      "cell_type": "code",
      "source": [
        "webdir('https://www.google.com/',2,0)"
      ],
      "metadata": {
        "colab": {
          "base_uri": "https://localhost:8080/"
        },
        "id": "vbVEXAJBIpYN",
        "outputId": "9547348c-aea7-4ec0-953a-330cdf482442"
      },
      "execution_count": null,
      "outputs": [
        {
          "output_type": "stream",
          "name": "stdout",
          "text": [
            "https://www.google.com/\n",
            "  http://www.google.com/history/optout?hl=en\n",
            "    https://accounts.google.com/login?hl=en\n"
          ]
        }
      ]
    },
    {
      "cell_type": "markdown",
      "source": [
        "Question 8:"
      ],
      "metadata": {
        "id": "Z8oIexuBsQ6B"
      }
    },
    {
      "cell_type": "code",
      "source": [
        "!pip install ipython-sql"
      ],
      "metadata": {
        "colab": {
          "base_uri": "https://localhost:8080/"
        },
        "id": "9nq8VZfeD25K",
        "outputId": "bcf2ff73-9bb7-4818-efc4-68ffdcce9ea6"
      },
      "execution_count": null,
      "outputs": [
        {
          "output_type": "stream",
          "name": "stdout",
          "text": [
            "Requirement already satisfied: ipython-sql in /usr/local/lib/python3.10/dist-packages (0.4.1)\n",
            "Requirement already satisfied: prettytable<1 in /usr/local/lib/python3.10/dist-packages (from ipython-sql) (0.7.2)\n",
            "Requirement already satisfied: ipython>=1.0 in /usr/local/lib/python3.10/dist-packages (from ipython-sql) (7.34.0)\n",
            "Requirement already satisfied: sqlalchemy>=0.6.7 in /usr/local/lib/python3.10/dist-packages (from ipython-sql) (2.0.16)\n",
            "Requirement already satisfied: sqlparse in /usr/local/lib/python3.10/dist-packages (from ipython-sql) (0.4.4)\n",
            "Requirement already satisfied: six in /usr/local/lib/python3.10/dist-packages (from ipython-sql) (1.16.0)\n",
            "Requirement already satisfied: ipython-genutils>=0.1.0 in /usr/local/lib/python3.10/dist-packages (from ipython-sql) (0.2.0)\n",
            "Requirement already satisfied: setuptools>=18.5 in /usr/local/lib/python3.10/dist-packages (from ipython>=1.0->ipython-sql) (67.7.2)\n",
            "Collecting jedi>=0.16 (from ipython>=1.0->ipython-sql)\n",
            "  Downloading jedi-0.18.2-py2.py3-none-any.whl (1.6 MB)\n",
            "\u001b[2K     \u001b[90m━━━━━━━━━━━━━━━━━━━━━━━━━━━━━━━━━━━━━━━━\u001b[0m \u001b[32m1.6/1.6 MB\u001b[0m \u001b[31m21.6 MB/s\u001b[0m eta \u001b[36m0:00:00\u001b[0m\n",
            "\u001b[?25hRequirement already satisfied: decorator in /usr/local/lib/python3.10/dist-packages (from ipython>=1.0->ipython-sql) (4.4.2)\n",
            "Requirement already satisfied: pickleshare in /usr/local/lib/python3.10/dist-packages (from ipython>=1.0->ipython-sql) (0.7.5)\n",
            "Requirement already satisfied: traitlets>=4.2 in /usr/local/lib/python3.10/dist-packages (from ipython>=1.0->ipython-sql) (5.7.1)\n",
            "Requirement already satisfied: prompt-toolkit!=3.0.0,!=3.0.1,<3.1.0,>=2.0.0 in /usr/local/lib/python3.10/dist-packages (from ipython>=1.0->ipython-sql) (3.0.38)\n",
            "Requirement already satisfied: pygments in /usr/local/lib/python3.10/dist-packages (from ipython>=1.0->ipython-sql) (2.14.0)\n",
            "Requirement already satisfied: backcall in /usr/local/lib/python3.10/dist-packages (from ipython>=1.0->ipython-sql) (0.2.0)\n",
            "Requirement already satisfied: matplotlib-inline in /usr/local/lib/python3.10/dist-packages (from ipython>=1.0->ipython-sql) (0.1.6)\n",
            "Requirement already satisfied: pexpect>4.3 in /usr/local/lib/python3.10/dist-packages (from ipython>=1.0->ipython-sql) (4.8.0)\n",
            "Requirement already satisfied: typing-extensions>=4.2.0 in /usr/local/lib/python3.10/dist-packages (from sqlalchemy>=0.6.7->ipython-sql) (4.6.3)\n",
            "Requirement already satisfied: greenlet!=0.4.17 in /usr/local/lib/python3.10/dist-packages (from sqlalchemy>=0.6.7->ipython-sql) (2.0.2)\n",
            "Requirement already satisfied: parso<0.9.0,>=0.8.0 in /usr/local/lib/python3.10/dist-packages (from jedi>=0.16->ipython>=1.0->ipython-sql) (0.8.3)\n",
            "Requirement already satisfied: ptyprocess>=0.5 in /usr/local/lib/python3.10/dist-packages (from pexpect>4.3->ipython>=1.0->ipython-sql) (0.7.0)\n",
            "Requirement already satisfied: wcwidth in /usr/local/lib/python3.10/dist-packages (from prompt-toolkit!=3.0.0,!=3.0.1,<3.1.0,>=2.0.0->ipython>=1.0->ipython-sql) (0.2.6)\n",
            "Installing collected packages: jedi\n",
            "Successfully installed jedi-0.18.2\n"
          ]
        }
      ]
    },
    {
      "cell_type": "code",
      "source": [
        "!pip install \"sqlalchemy<1.4\""
      ],
      "metadata": {
        "colab": {
          "base_uri": "https://localhost:8080/"
        },
        "id": "XKkLk7YQiTE1",
        "outputId": "fd1c0963-8314-4f90-a3da-009f87ab26be"
      },
      "execution_count": null,
      "outputs": [
        {
          "output_type": "stream",
          "name": "stdout",
          "text": [
            "Collecting sqlalchemy<1.4\n",
            "  Downloading SQLAlchemy-1.3.24.tar.gz (6.4 MB)\n",
            "\u001b[2K     \u001b[90m━━━━━━━━━━━━━━━━━━━━━━━━━━━━━━━━━━━━━━━━\u001b[0m \u001b[32m6.4/6.4 MB\u001b[0m \u001b[31m41.0 MB/s\u001b[0m eta \u001b[36m0:00:00\u001b[0m\n",
            "\u001b[?25h  Preparing metadata (setup.py) ... \u001b[?25l\u001b[?25hdone\n",
            "Building wheels for collected packages: sqlalchemy\n",
            "  Building wheel for sqlalchemy (setup.py) ... \u001b[?25l\u001b[?25hdone\n",
            "  Created wheel for sqlalchemy: filename=SQLAlchemy-1.3.24-cp310-cp310-linux_x86_64.whl size=1268257 sha256=19881c0622708454218bb44e9a6e7583a3239ae2ae32745deca0d013ae22db28\n",
            "  Stored in directory: /root/.cache/pip/wheels/27/51/b3/3481e88d5a5ba95dd4aafedc9316774d941c4ba61cfb93add8\n",
            "Successfully built sqlalchemy\n",
            "Installing collected packages: sqlalchemy\n",
            "  Attempting uninstall: sqlalchemy\n",
            "    Found existing installation: SQLAlchemy 2.0.16\n",
            "    Uninstalling SQLAlchemy-2.0.16:\n",
            "      Successfully uninstalled SQLAlchemy-2.0.16\n",
            "Successfully installed sqlalchemy-1.3.24\n"
          ]
        }
      ]
    },
    {
      "cell_type": "code",
      "source": [
        "!pip list | grep -i sql"
      ],
      "metadata": {
        "colab": {
          "base_uri": "https://localhost:8080/"
        },
        "id": "KISqsFykzza9",
        "outputId": "1f595adb-d218-430e-dc8f-66b11e6d6a4e"
      },
      "execution_count": null,
      "outputs": [
        {
          "output_type": "stream",
          "name": "stdout",
          "text": [
            "ipython-sql                      0.4.1\n",
            "SQLAlchemy                       1.3.24\n",
            "sqlparse                         0.4.4\n"
          ]
        }
      ]
    },
    {
      "cell_type": "code",
      "source": [
        "import sqlite3\n",
        "\n",
        "sqliteConnection = sqlite3.connect('City_Season.db')\n",
        "print(\"Successfully Connected to SQLite\")\n"
      ],
      "metadata": {
        "colab": {
          "base_uri": "https://localhost:8080/"
        },
        "id": "KVq50oM1Z4CX",
        "outputId": "3fbb1343-3e71-4243-9bff-363b4a2e00b7"
      },
      "execution_count": null,
      "outputs": [
        {
          "output_type": "stream",
          "name": "stdout",
          "text": [
            "Successfully Connected to SQLite\n"
          ]
        }
      ]
    },
    {
      "cell_type": "code",
      "source": [
        "%load_ext sql"
      ],
      "metadata": {
        "id": "AzsY8XKaecv1"
      },
      "execution_count": null,
      "outputs": []
    },
    {
      "cell_type": "code",
      "source": [
        "%sql sqlite:///City_Season.db"
      ],
      "metadata": {
        "id": "cAOf75u6ajNp"
      },
      "execution_count": null,
      "outputs": []
    },
    {
      "cell_type": "code",
      "source": [
        "%sql CREATE TABLE City_Season (City varchar(225),Country varchar(255),Season varchar(255),Temperature int,Rainfall int);"
      ],
      "metadata": {
        "colab": {
          "base_uri": "https://localhost:8080/"
        },
        "id": "Tew8UIq0EIhG",
        "outputId": "e0f120d9-0884-4b86-8ba2-f382691021ee"
      },
      "execution_count": null,
      "outputs": [
        {
          "output_type": "stream",
          "name": "stdout",
          "text": [
            " * sqlite:///City_Season.db\n",
            "Done.\n"
          ]
        },
        {
          "output_type": "execute_result",
          "data": {
            "text/plain": [
              "[]"
            ]
          },
          "metadata": {},
          "execution_count": 18
        }
      ]
    },
    {
      "cell_type": "code",
      "source": [
        "%%sql\n",
        "INSERT INTO City_Season VALUES (\"Mumbai\",\"India\",\"Winter\",\"24.8\",\"5.9\");\n",
        "INSERT INTO City_Season VALUES (\"Mumbai\",\"India\",\"Spring\",\"28.4\",\"16.2\");\n",
        "INSERT INTO City_Season VALUES (\"Mumbai\",\"India\",\"Summer\",\"27.9\",\"1549.4\");\n",
        "\n",
        "INSERT INTO City_Season VALUES (\"Mumbai\",\"India\",\"Fall\",\"27.6\",\"346.0\");\n",
        "\n",
        "INSERT INTO City_Season VALUES (\"London\",\"United Kingdom\",\"Winter\",\"4.2\",\"207.7\");\n",
        "INSERT INTO City_Season VALUES (\"London\",\"United Kingdom\",\"Spring\",\"8.3\",\"169.6\");\n",
        "INSERT INTO City_Season VALUES (\"London\",\"United Kingdom\",\"Summer\",\"15.7\",\"157.0\");\n",
        "INSERT INTO City_Season VALUES (\"London\",\"United Kingdom\",\"Fall\",\"10.4\",\"218.5\");\n",
        "\n",
        "INSERT INTO City_Season VALUES (\"Cairo\",\"Egypt\",\"Winter\",\"13.6\",\"16.5\");\n",
        "INSERT INTO City_Season VALUES (\"Cairo\",\"Egypt\",\"Spring\",\"20.7\",\"6.5\");\n",
        "INSERT INTO City_Season VALUES (\"Cairo\",\"Egypt\",\"Summer\",\"27.7\",\"0.1\");\n",
        "INSERT INTO City_Season VALUES (\"Cairo\",\"Egypt\",\"Fall\",\"22.2\",\"4.5\");\n"
      ],
      "metadata": {
        "colab": {
          "base_uri": "https://localhost:8080/"
        },
        "id": "ANrJpkTjFcGI",
        "outputId": "9ded0295-5cd2-4e96-e31a-5153cdc12327"
      },
      "execution_count": null,
      "outputs": [
        {
          "output_type": "stream",
          "name": "stdout",
          "text": [
            " * sqlite:///City_Season.db\n",
            "1 rows affected.\n",
            "1 rows affected.\n",
            "1 rows affected.\n",
            "1 rows affected.\n",
            "1 rows affected.\n",
            "1 rows affected.\n",
            "1 rows affected.\n",
            "1 rows affected.\n",
            "1 rows affected.\n",
            "1 rows affected.\n",
            "1 rows affected.\n",
            "1 rows affected.\n"
          ]
        },
        {
          "output_type": "execute_result",
          "data": {
            "text/plain": [
              "[]"
            ]
          },
          "metadata": {},
          "execution_count": 38
        }
      ]
    },
    {
      "cell_type": "code",
      "source": [
        "%%sql\n",
        "SELECT * from City_Season;"
      ],
      "metadata": {
        "colab": {
          "base_uri": "https://localhost:8080/",
          "height": 326
        },
        "id": "ugmnT1gdISqy",
        "outputId": "958a6e38-7261-4983-fa56-af9ac2dedc79"
      },
      "execution_count": null,
      "outputs": [
        {
          "output_type": "stream",
          "name": "stdout",
          "text": [
            " * sqlite:///City_Season.db\n",
            "Done.\n"
          ]
        },
        {
          "output_type": "execute_result",
          "data": {
            "text/plain": [
              "[('Mumbai', 'India', 'Winter', 24.8, 5.9),\n",
              " ('Mumbai', 'India', 'Spring', 28.4, 16.2),\n",
              " ('Mumbai', 'India', 'Summer', 27.9, 1549.4),\n",
              " ('Mumbai', 'India', 'Fall', 27.6, 346),\n",
              " ('London', 'United Kingdom', 'Winter', 4.2, 207.7),\n",
              " ('London', 'United Kingdom', 'Spring', 8.3, 169.6),\n",
              " ('London', 'United Kingdom', 'Summer', 15.7, 157),\n",
              " ('London', 'United Kingdom', 'Fall', 10.4, 218.5),\n",
              " ('Cairo', 'Egypt', 'Winter', 13.6, 16.5),\n",
              " ('Cairo', 'Egypt', 'Spring', 20.7, 6.5),\n",
              " ('Cairo', 'Egypt', 'Summer', 27.7, 0.1),\n",
              " ('Cairo', 'Egypt', 'Fall', 22.2, 4.5)]"
            ],
            "text/html": [
              "<table>\n",
              "    <tr>\n",
              "        <th>City</th>\n",
              "        <th>Country</th>\n",
              "        <th>Season</th>\n",
              "        <th>Temperature</th>\n",
              "        <th>Rainfall</th>\n",
              "    </tr>\n",
              "    <tr>\n",
              "        <td>Mumbai</td>\n",
              "        <td>India</td>\n",
              "        <td>Winter</td>\n",
              "        <td>24.8</td>\n",
              "        <td>5.9</td>\n",
              "    </tr>\n",
              "    <tr>\n",
              "        <td>Mumbai</td>\n",
              "        <td>India</td>\n",
              "        <td>Spring</td>\n",
              "        <td>28.4</td>\n",
              "        <td>16.2</td>\n",
              "    </tr>\n",
              "    <tr>\n",
              "        <td>Mumbai</td>\n",
              "        <td>India</td>\n",
              "        <td>Summer</td>\n",
              "        <td>27.9</td>\n",
              "        <td>1549.4</td>\n",
              "    </tr>\n",
              "    <tr>\n",
              "        <td>Mumbai</td>\n",
              "        <td>India</td>\n",
              "        <td>Fall</td>\n",
              "        <td>27.6</td>\n",
              "        <td>346</td>\n",
              "    </tr>\n",
              "    <tr>\n",
              "        <td>London</td>\n",
              "        <td>United Kingdom</td>\n",
              "        <td>Winter</td>\n",
              "        <td>4.2</td>\n",
              "        <td>207.7</td>\n",
              "    </tr>\n",
              "    <tr>\n",
              "        <td>London</td>\n",
              "        <td>United Kingdom</td>\n",
              "        <td>Spring</td>\n",
              "        <td>8.3</td>\n",
              "        <td>169.6</td>\n",
              "    </tr>\n",
              "    <tr>\n",
              "        <td>London</td>\n",
              "        <td>United Kingdom</td>\n",
              "        <td>Summer</td>\n",
              "        <td>15.7</td>\n",
              "        <td>157</td>\n",
              "    </tr>\n",
              "    <tr>\n",
              "        <td>London</td>\n",
              "        <td>United Kingdom</td>\n",
              "        <td>Fall</td>\n",
              "        <td>10.4</td>\n",
              "        <td>218.5</td>\n",
              "    </tr>\n",
              "    <tr>\n",
              "        <td>Cairo</td>\n",
              "        <td>Egypt</td>\n",
              "        <td>Winter</td>\n",
              "        <td>13.6</td>\n",
              "        <td>16.5</td>\n",
              "    </tr>\n",
              "    <tr>\n",
              "        <td>Cairo</td>\n",
              "        <td>Egypt</td>\n",
              "        <td>Spring</td>\n",
              "        <td>20.7</td>\n",
              "        <td>6.5</td>\n",
              "    </tr>\n",
              "    <tr>\n",
              "        <td>Cairo</td>\n",
              "        <td>Egypt</td>\n",
              "        <td>Summer</td>\n",
              "        <td>27.7</td>\n",
              "        <td>0.1</td>\n",
              "    </tr>\n",
              "    <tr>\n",
              "        <td>Cairo</td>\n",
              "        <td>Egypt</td>\n",
              "        <td>Fall</td>\n",
              "        <td>22.2</td>\n",
              "        <td>4.5</td>\n",
              "    </tr>\n",
              "</table>"
            ]
          },
          "metadata": {},
          "execution_count": 20
        }
      ]
    },
    {
      "cell_type": "markdown",
      "source": [
        "a."
      ],
      "metadata": {
        "id": "1LKl3kLysVaQ"
      }
    },
    {
      "cell_type": "code",
      "source": [
        "%sql SELECT Temperature FROM City_Season;"
      ],
      "metadata": {
        "colab": {
          "base_uri": "https://localhost:8080/",
          "height": 326
        },
        "id": "pj4-ltebsUEe",
        "outputId": "6bd84c00-0cfc-4754-920f-4611bc4dfde3"
      },
      "execution_count": null,
      "outputs": [
        {
          "output_type": "stream",
          "name": "stdout",
          "text": [
            " * sqlite:///City_Season.db\n",
            "Done.\n"
          ]
        },
        {
          "output_type": "execute_result",
          "data": {
            "text/plain": [
              "[(24.8,),\n",
              " (28.4,),\n",
              " (27.9,),\n",
              " (27.6,),\n",
              " (4.2,),\n",
              " (8.3,),\n",
              " (15.7,),\n",
              " (10.4,),\n",
              " (13.6,),\n",
              " (20.7,),\n",
              " (27.7,),\n",
              " (22.2,)]"
            ],
            "text/html": [
              "<table>\n",
              "    <tr>\n",
              "        <th>Temperature</th>\n",
              "    </tr>\n",
              "    <tr>\n",
              "        <td>24.8</td>\n",
              "    </tr>\n",
              "    <tr>\n",
              "        <td>28.4</td>\n",
              "    </tr>\n",
              "    <tr>\n",
              "        <td>27.9</td>\n",
              "    </tr>\n",
              "    <tr>\n",
              "        <td>27.6</td>\n",
              "    </tr>\n",
              "    <tr>\n",
              "        <td>4.2</td>\n",
              "    </tr>\n",
              "    <tr>\n",
              "        <td>8.3</td>\n",
              "    </tr>\n",
              "    <tr>\n",
              "        <td>15.7</td>\n",
              "    </tr>\n",
              "    <tr>\n",
              "        <td>10.4</td>\n",
              "    </tr>\n",
              "    <tr>\n",
              "        <td>13.6</td>\n",
              "    </tr>\n",
              "    <tr>\n",
              "        <td>20.7</td>\n",
              "    </tr>\n",
              "    <tr>\n",
              "        <td>27.7</td>\n",
              "    </tr>\n",
              "    <tr>\n",
              "        <td>22.2</td>\n",
              "    </tr>\n",
              "</table>"
            ]
          },
          "metadata": {},
          "execution_count": 21
        }
      ]
    },
    {
      "cell_type": "markdown",
      "source": [
        "b."
      ],
      "metadata": {
        "id": "pdHExIHRCJEF"
      }
    },
    {
      "cell_type": "code",
      "source": [
        "%sql SELECT distinct City FROM City_Season;"
      ],
      "metadata": {
        "colab": {
          "base_uri": "https://localhost:8080/",
          "height": 137
        },
        "id": "jeUeZqLxCKXR",
        "outputId": "15475e19-fcb2-4c90-cc19-bb2bea89c600"
      },
      "execution_count": null,
      "outputs": [
        {
          "output_type": "stream",
          "name": "stdout",
          "text": [
            " * sqlite:///City_Season.db\n",
            "Done.\n"
          ]
        },
        {
          "output_type": "execute_result",
          "data": {
            "text/plain": [
              "[('Mumbai',), ('London',), ('Cairo',)]"
            ],
            "text/html": [
              "<table>\n",
              "    <tr>\n",
              "        <th>City</th>\n",
              "    </tr>\n",
              "    <tr>\n",
              "        <td>Mumbai</td>\n",
              "    </tr>\n",
              "    <tr>\n",
              "        <td>London</td>\n",
              "    </tr>\n",
              "    <tr>\n",
              "        <td>Cairo</td>\n",
              "    </tr>\n",
              "</table>"
            ]
          },
          "metadata": {},
          "execution_count": 22
        }
      ]
    },
    {
      "cell_type": "markdown",
      "source": [
        "c."
      ],
      "metadata": {
        "id": "Pwdd90LjDqo0"
      }
    },
    {
      "cell_type": "code",
      "source": [
        "%sql SELECT * FROM City_Season where Country=\"India\";"
      ],
      "metadata": {
        "colab": {
          "base_uri": "https://localhost:8080/",
          "height": 158
        },
        "id": "3EmJujtxDr2z",
        "outputId": "6452923e-9e3b-4233-a587-17ef91b54286"
      },
      "execution_count": null,
      "outputs": [
        {
          "output_type": "stream",
          "name": "stdout",
          "text": [
            " * sqlite:///City_Season.db\n",
            "Done.\n"
          ]
        },
        {
          "output_type": "execute_result",
          "data": {
            "text/plain": [
              "[('Mumbai', 'India', 'Winter', 24.8, 5.9),\n",
              " ('Mumbai', 'India', 'Spring', 28.4, 16.2),\n",
              " ('Mumbai', 'India', 'Summer', 27.9, 1549.4),\n",
              " ('Mumbai', 'India', 'Fall', 27.6, 346)]"
            ],
            "text/html": [
              "<table>\n",
              "    <tr>\n",
              "        <th>City</th>\n",
              "        <th>Country</th>\n",
              "        <th>Season</th>\n",
              "        <th>Temperature</th>\n",
              "        <th>Rainfall</th>\n",
              "    </tr>\n",
              "    <tr>\n",
              "        <td>Mumbai</td>\n",
              "        <td>India</td>\n",
              "        <td>Winter</td>\n",
              "        <td>24.8</td>\n",
              "        <td>5.9</td>\n",
              "    </tr>\n",
              "    <tr>\n",
              "        <td>Mumbai</td>\n",
              "        <td>India</td>\n",
              "        <td>Spring</td>\n",
              "        <td>28.4</td>\n",
              "        <td>16.2</td>\n",
              "    </tr>\n",
              "    <tr>\n",
              "        <td>Mumbai</td>\n",
              "        <td>India</td>\n",
              "        <td>Summer</td>\n",
              "        <td>27.9</td>\n",
              "        <td>1549.4</td>\n",
              "    </tr>\n",
              "    <tr>\n",
              "        <td>Mumbai</td>\n",
              "        <td>India</td>\n",
              "        <td>Fall</td>\n",
              "        <td>27.6</td>\n",
              "        <td>346</td>\n",
              "    </tr>\n",
              "</table>"
            ]
          },
          "metadata": {},
          "execution_count": 23
        }
      ]
    },
    {
      "cell_type": "markdown",
      "source": [
        "d."
      ],
      "metadata": {
        "id": "C5baeCZWD_0V"
      }
    },
    {
      "cell_type": "code",
      "source": [
        "%sql SELECT * FROM City_Season where Season=\"Fall\";"
      ],
      "metadata": {
        "colab": {
          "base_uri": "https://localhost:8080/",
          "height": 137
        },
        "id": "pnqTcdRMEBGb",
        "outputId": "00fa269e-ace8-4d41-e11f-a4ddb4d8a9e3"
      },
      "execution_count": null,
      "outputs": [
        {
          "output_type": "stream",
          "name": "stdout",
          "text": [
            " * sqlite:///City_Season.db\n",
            "Done.\n"
          ]
        },
        {
          "output_type": "execute_result",
          "data": {
            "text/plain": [
              "[('Mumbai', 'India', 'Fall', 27.6, 346),\n",
              " ('London', 'United Kingdom', 'Fall', 10.4, 218.5),\n",
              " ('Cairo', 'Egypt', 'Fall', 22.2, 4.5)]"
            ],
            "text/html": [
              "<table>\n",
              "    <tr>\n",
              "        <th>City</th>\n",
              "        <th>Country</th>\n",
              "        <th>Season</th>\n",
              "        <th>Temperature</th>\n",
              "        <th>Rainfall</th>\n",
              "    </tr>\n",
              "    <tr>\n",
              "        <td>Mumbai</td>\n",
              "        <td>India</td>\n",
              "        <td>Fall</td>\n",
              "        <td>27.6</td>\n",
              "        <td>346</td>\n",
              "    </tr>\n",
              "    <tr>\n",
              "        <td>London</td>\n",
              "        <td>United Kingdom</td>\n",
              "        <td>Fall</td>\n",
              "        <td>10.4</td>\n",
              "        <td>218.5</td>\n",
              "    </tr>\n",
              "    <tr>\n",
              "        <td>Cairo</td>\n",
              "        <td>Egypt</td>\n",
              "        <td>Fall</td>\n",
              "        <td>22.2</td>\n",
              "        <td>4.5</td>\n",
              "    </tr>\n",
              "</table>"
            ]
          },
          "metadata": {},
          "execution_count": 24
        }
      ]
    },
    {
      "cell_type": "markdown",
      "source": [
        "e."
      ],
      "metadata": {
        "id": "yejz4UBMJ3LU"
      }
    },
    {
      "cell_type": "code",
      "source": [
        "%sql SELECT City, Country, Season FROM City_Season GROUP BY City, Country, Season HAVING AVG(Rainfall) BETWEEN 200 AND 400;\n"
      ],
      "metadata": {
        "colab": {
          "base_uri": "https://localhost:8080/",
          "height": 137
        },
        "id": "pGpUs0nKKCqH",
        "outputId": "d09d4355-45da-498d-a8e5-edce0878b5c3"
      },
      "execution_count": null,
      "outputs": [
        {
          "output_type": "stream",
          "name": "stdout",
          "text": [
            " * sqlite:///City_Season.db\n",
            "Done.\n"
          ]
        },
        {
          "output_type": "execute_result",
          "data": {
            "text/plain": [
              "[('London', 'United Kingdom', 'Fall'),\n",
              " ('London', 'United Kingdom', 'Winter'),\n",
              " ('Mumbai', 'India', 'Fall')]"
            ],
            "text/html": [
              "<table>\n",
              "    <tr>\n",
              "        <th>City</th>\n",
              "        <th>Country</th>\n",
              "        <th>Season</th>\n",
              "    </tr>\n",
              "    <tr>\n",
              "        <td>London</td>\n",
              "        <td>United Kingdom</td>\n",
              "        <td>Fall</td>\n",
              "    </tr>\n",
              "    <tr>\n",
              "        <td>London</td>\n",
              "        <td>United Kingdom</td>\n",
              "        <td>Winter</td>\n",
              "    </tr>\n",
              "    <tr>\n",
              "        <td>Mumbai</td>\n",
              "        <td>India</td>\n",
              "        <td>Fall</td>\n",
              "    </tr>\n",
              "</table>"
            ]
          },
          "metadata": {},
          "execution_count": 25
        }
      ]
    },
    {
      "cell_type": "markdown",
      "source": [
        "f."
      ],
      "metadata": {
        "id": "qKE__LHMKuRO"
      }
    },
    {
      "cell_type": "code",
      "source": [
        "%sql SELECT City, Country FROM City_Season WHERE Season = 'Fall' GROUP BY City, Country HAVING AVG(Temperature) > 20 ORDER BY AVG(Temperature) ASC;\n"
      ],
      "metadata": {
        "colab": {
          "base_uri": "https://localhost:8080/",
          "height": 116
        },
        "id": "DpjmcHntKsnm",
        "outputId": "a463623f-db6d-4d80-b9b1-8ee272fb0d0b"
      },
      "execution_count": null,
      "outputs": [
        {
          "output_type": "stream",
          "name": "stdout",
          "text": [
            " * sqlite:///City_Season.db\n",
            "Done.\n"
          ]
        },
        {
          "output_type": "execute_result",
          "data": {
            "text/plain": [
              "[('Cairo', 'Egypt'), ('Mumbai', 'India')]"
            ],
            "text/html": [
              "<table>\n",
              "    <tr>\n",
              "        <th>City</th>\n",
              "        <th>Country</th>\n",
              "    </tr>\n",
              "    <tr>\n",
              "        <td>Cairo</td>\n",
              "        <td>Egypt</td>\n",
              "    </tr>\n",
              "    <tr>\n",
              "        <td>Mumbai</td>\n",
              "        <td>India</td>\n",
              "    </tr>\n",
              "</table>"
            ]
          },
          "metadata": {},
          "execution_count": 26
        }
      ]
    },
    {
      "cell_type": "markdown",
      "source": [
        "g."
      ],
      "metadata": {
        "id": "fdupDGe-LJFe"
      }
    },
    {
      "cell_type": "code",
      "source": [
        "%sql SELECT SUM(Rainfall) AS TotalRainfall FROM City_Season WHERE City = 'Cairo';\n"
      ],
      "metadata": {
        "colab": {
          "base_uri": "https://localhost:8080/",
          "height": 95
        },
        "id": "aR46tPIfLKab",
        "outputId": "108ee28f-2457-4bef-d669-11fe3b7ecefd"
      },
      "execution_count": null,
      "outputs": [
        {
          "output_type": "stream",
          "name": "stdout",
          "text": [
            " * sqlite:///City_Season.db\n",
            "Done.\n"
          ]
        },
        {
          "output_type": "execute_result",
          "data": {
            "text/plain": [
              "[(27.6,)]"
            ],
            "text/html": [
              "<table>\n",
              "    <tr>\n",
              "        <th>TotalRainfall</th>\n",
              "    </tr>\n",
              "    <tr>\n",
              "        <td>27.6</td>\n",
              "    </tr>\n",
              "</table>"
            ]
          },
          "metadata": {},
          "execution_count": 27
        }
      ]
    },
    {
      "cell_type": "markdown",
      "source": [
        "h."
      ],
      "metadata": {
        "id": "0cH2-qZVLkB1"
      }
    },
    {
      "cell_type": "code",
      "source": [
        "%sql SELECT Season, SUM(Rainfall) AS TotalRainfall FROM City_Season GROUP BY Season;\n"
      ],
      "metadata": {
        "colab": {
          "base_uri": "https://localhost:8080/",
          "height": 158
        },
        "id": "EVWxLoRgLnEL",
        "outputId": "8227e7c7-d5d1-4b63-8ad2-bba7bb085889"
      },
      "execution_count": null,
      "outputs": [
        {
          "output_type": "stream",
          "name": "stdout",
          "text": [
            " * sqlite:///City_Season.db\n",
            "Done.\n"
          ]
        },
        {
          "output_type": "execute_result",
          "data": {
            "text/plain": [
              "[('Fall', 569.0),\n",
              " ('Spring', 192.29999999999998),\n",
              " ('Summer', 1706.5),\n",
              " ('Winter', 230.1)]"
            ],
            "text/html": [
              "<table>\n",
              "    <tr>\n",
              "        <th>Season</th>\n",
              "        <th>TotalRainfall</th>\n",
              "    </tr>\n",
              "    <tr>\n",
              "        <td>Fall</td>\n",
              "        <td>569.0</td>\n",
              "    </tr>\n",
              "    <tr>\n",
              "        <td>Spring</td>\n",
              "        <td>192.29999999999998</td>\n",
              "    </tr>\n",
              "    <tr>\n",
              "        <td>Summer</td>\n",
              "        <td>1706.5</td>\n",
              "    </tr>\n",
              "    <tr>\n",
              "        <td>Winter</td>\n",
              "        <td>230.1</td>\n",
              "    </tr>\n",
              "</table>"
            ]
          },
          "metadata": {},
          "execution_count": 28
        }
      ]
    },
    {
      "cell_type": "markdown",
      "source": [
        "Question 9:"
      ],
      "metadata": {
        "id": "I9lW0orTFp80"
      }
    },
    {
      "cell_type": "code",
      "source": [
        "words = ['The', 'quick', 'brown', 'fox', 'jumps', 'over','the', 'lazy', 'dog']\n"
      ],
      "metadata": {
        "id": "0L1hAkTMbQrQ"
      },
      "execution_count": null,
      "outputs": []
    },
    {
      "cell_type": "markdown",
      "source": [
        "a."
      ],
      "metadata": {
        "id": "_KdDUHa7b_-b"
      }
    },
    {
      "cell_type": "code",
      "source": [
        "[word.upper() for word in words]"
      ],
      "metadata": {
        "colab": {
          "base_uri": "https://localhost:8080/"
        },
        "id": "xutpUqtkbyZk",
        "outputId": "8c48bf58-58b5-462e-a65d-16c33da43037"
      },
      "execution_count": null,
      "outputs": [
        {
          "output_type": "execute_result",
          "data": {
            "text/plain": [
              "['THE', 'QUICK', 'BROWN', 'FOX', 'JUMPS', 'OVER', 'THE', 'LAZY', 'DOG']"
            ]
          },
          "metadata": {},
          "execution_count": 30
        }
      ]
    },
    {
      "cell_type": "markdown",
      "source": [
        "b."
      ],
      "metadata": {
        "id": "d9QJz0KHcHIe"
      }
    },
    {
      "cell_type": "code",
      "source": [
        "[word.lower() for word in words]"
      ],
      "metadata": {
        "colab": {
          "base_uri": "https://localhost:8080/"
        },
        "id": "-OQfPmq8cIe-",
        "outputId": "0c98e1f5-0fe8-4a21-9bc6-0156c0e26380"
      },
      "execution_count": null,
      "outputs": [
        {
          "output_type": "execute_result",
          "data": {
            "text/plain": [
              "['the', 'quick', 'brown', 'fox', 'jumps', 'over', 'the', 'lazy', 'dog']"
            ]
          },
          "metadata": {},
          "execution_count": 31
        }
      ]
    },
    {
      "cell_type": "markdown",
      "source": [
        "c."
      ],
      "metadata": {
        "id": "I3aPNbbpcM6e"
      }
    },
    {
      "cell_type": "code",
      "source": [
        "[len(word) for word in words]"
      ],
      "metadata": {
        "colab": {
          "base_uri": "https://localhost:8080/"
        },
        "id": "UnrwwoZEcOgR",
        "outputId": "f6f4c5c0-ac9a-465e-a6c4-d4d7b21ce33e"
      },
      "execution_count": null,
      "outputs": [
        {
          "output_type": "execute_result",
          "data": {
            "text/plain": [
              "[3, 5, 5, 3, 5, 4, 3, 4, 3]"
            ]
          },
          "metadata": {},
          "execution_count": 32
        }
      ]
    },
    {
      "cell_type": "markdown",
      "source": [
        "d."
      ],
      "metadata": {
        "id": "Ob_tg70zcTSI"
      }
    },
    {
      "cell_type": "code",
      "source": [
        "[['THE', 'the', 3], ['QUICK', 'quick', 5], ['BROWN', 'brown', 5], ['FOX', 'fox', 3], ['JUMPS', 'jumps', 5], ['OVER', 'over', 4], ['THE', 'the', 3], ['LAZY', 'lazy', 4], ['DOG', 'dog', 3]]\n",
        "\n",
        "[[word.upper(), word.lower(), len(word)] for word in words]"
      ],
      "metadata": {
        "colab": {
          "base_uri": "https://localhost:8080/"
        },
        "id": "aW26gOVpcURG",
        "outputId": "ec1edfba-66ae-4f05-c21e-1118a27694f3"
      },
      "execution_count": null,
      "outputs": [
        {
          "output_type": "execute_result",
          "data": {
            "text/plain": [
              "[['THE', 'the', 3],\n",
              " ['QUICK', 'quick', 5],\n",
              " ['BROWN', 'brown', 5],\n",
              " ['FOX', 'fox', 3],\n",
              " ['JUMPS', 'jumps', 5],\n",
              " ['OVER', 'over', 4],\n",
              " ['THE', 'the', 3],\n",
              " ['LAZY', 'lazy', 4],\n",
              " ['DOG', 'dog', 3]]"
            ]
          },
          "metadata": {},
          "execution_count": 33
        }
      ]
    },
    {
      "cell_type": "markdown",
      "source": [
        "e."
      ],
      "metadata": {
        "id": "zceFNb0XckDb"
      }
    },
    {
      "cell_type": "code",
      "source": [
        "words = ['The', 'quick', 'brown', 'fox', 'jumps', 'over', 'the', 'lazy', 'dog']\n",
        "[word for word in words if len(word) >= 4]\n"
      ],
      "metadata": {
        "id": "Hdg_ICFJclhw",
        "colab": {
          "base_uri": "https://localhost:8080/"
        },
        "outputId": "6da10cc8-9fd8-474e-f206-d63f5dee9282"
      },
      "execution_count": null,
      "outputs": [
        {
          "output_type": "execute_result",
          "data": {
            "text/plain": [
              "['quick', 'brown', 'jumps', 'over', 'lazy']"
            ]
          },
          "metadata": {},
          "execution_count": 34
        }
      ]
    }
  ]
}